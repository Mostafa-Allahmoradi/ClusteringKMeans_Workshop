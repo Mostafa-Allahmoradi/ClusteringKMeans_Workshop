{
 "cells": [
  {
   "cell_type": "markdown",
   "id": "36354a6f",
   "metadata": {},
   "source": [
    "#### Team members\n",
    "\n",
    "1. Mostafa Allahmoradi - 9087818\n",
    "2. Cemil Caglar Yapici – 9081058\n",
    "3. Jarius Bedward - 8841640"
   ]
  },
  {
   "cell_type": "code",
   "execution_count": null,
   "id": "919dce6e",
   "metadata": {},
   "outputs": [],
   "source": [
    "import pandas as pd\n",
    "import numpy as np\n",
    "import seaborn as sns\n",
    "import matplotlib.pyplot as plt\n"
   ]
  },
  {
   "cell_type": "markdown",
   "id": "5d1ef09d",
   "metadata": {},
   "source": [
    "#### Problem statement\n",
    "\n",
    "Area of Focus:  \n",
    "In today’s world, health conditions such as heart disease, obesity, and diabetes are rapidly increasing. Many of these illnesses are directly linked to preventable lifestyle factors such as poor diet, lack of physical activity, smoking, alcohol consumption, and inadequate sleep. Despite increased awareness about healthy living, many individuals are still at risk because they underestimate how daily habits affect their well-being in long-term. \n",
    "\n",
    "Outcome:  \n",
    "Early detection and prevention could save lives and reduce medical costs, but traditional screening methods are often not effective, and they typically only identify problems after symptoms appear, missing critical opportunities for prevention. \n",
    "\n",
    "This project aims to explore how machine learning can help predict the likelihood of developing a heart condition (or general illness) based on an individual’s diet, lifestyle, and fitness-related factors. By analyzing real-world health data, our goal is to identify key risk factors and build a predictive model that can help individuals take proactive measures toward healthier living."
   ]
  },
  {
   "cell_type": "markdown",
   "id": "eaf39bda",
   "metadata": {},
   "source": [
    "#### Data Sources: \n",
    "\n",
    "Health and Lifestyle Data for Regression \n",
    "\n",
    "Heart Attack Prediction in Indonesia "
   ]
  },
  {
   "cell_type": "markdown",
   "id": "43d4b3ae",
   "metadata": {},
   "source": [
    "#### 1. Load data sources"
   ]
  },
  {
   "cell_type": "code",
   "execution_count": null,
   "id": "7706fcf5",
   "metadata": {},
   "outputs": [],
   "source": [
    "# health_data_df = pd.read_csv('data/synthetic_health_data.csv')\n",
    "# display(health_data_df.head())\n",
    "\n",
    "health_data_df2 = pd.read_csv('data/heart_attack_prediction_indonesia.csv')\n",
    "display(health_data_df2.head())\n",
    "display(health_data_df2.info())\n",
    "\n",
    "display(health_data_df2.describe().T)"
   ]
  }
 ],
 "metadata": {
  "kernelspec": {
   "display_name": ".venv",
   "language": "python",
   "name": "python3"
  },
  "language_info": {
   "name": "python",
   "version": "3.13.7"
  }
 },
 "nbformat": 4,
 "nbformat_minor": 5
}
